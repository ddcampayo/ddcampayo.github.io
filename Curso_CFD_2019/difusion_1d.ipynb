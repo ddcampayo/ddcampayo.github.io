{
 "metadata": {
  "name": "",
  "signature": "sha256:43b784102ba61d2a9e7c0110313e1adb9d4ac2ccf77271f658f9fd2643437a0e"
 },
 "nbformat": 3,
 "nbformat_minor": 0,
 "worksheets": [
  {
   "cells": [
    {
     "cell_type": "markdown",
     "metadata": {},
     "source": [
      "# Difusi\u00f3n en una dimensi\u00f3n"
     ]
    },
    {
     "cell_type": "code",
     "collapsed": false,
     "input": [
      "%matplotlib inline"
     ],
     "language": "python",
     "metadata": {},
     "outputs": [],
     "prompt_number": 1
    },
    {
     "cell_type": "code",
     "collapsed": false,
     "input": [
      "import scipy as np\n",
      "from matplotlib import pyplot as plt"
     ],
     "language": "python",
     "metadata": {},
     "outputs": [],
     "prompt_number": 2
    },
    {
     "cell_type": "markdown",
     "metadata": {},
     "source": [
      "## Par\u00e1metros"
     ]
    },
    {
     "cell_type": "code",
     "collapsed": false,
     "input": [
      "L  = 1.0           # longitud del sistema 1D\n",
      "nx = 42            # nodos espaciales\n",
      "dx = L / (nx-2)    # s\u00ed, quitamos dos nodos ...\n",
      "x = np.linspace( 0 , L , num=nx )\n",
      "\n",
      "T= 0.02            # tiempo total\n",
      "nt = 400            # pasos temporales\n",
      "dt = T / nt\n",
      "\n",
      "c = 1              # velocidad de la onda"
     ],
     "language": "python",
     "metadata": {},
     "outputs": [],
     "prompt_number": 18
    },
    {
     "cell_type": "markdown",
     "metadata": {},
     "source": [
      "### \u00a1N\u00famero de Courant !"
     ]
    },
    {
     "cell_type": "code",
     "collapsed": false,
     "input": [
      "Co = c * dt / dx**2\n",
      "Co"
     ],
     "language": "python",
     "metadata": {},
     "outputs": [
      {
       "metadata": {},
       "output_type": "pyout",
       "prompt_number": 22,
       "text": [
        "0.07999999999999999"
       ]
      }
     ],
     "prompt_number": 22
    },
    {
     "cell_type": "markdown",
     "metadata": {},
     "source": [
      "### Condiciones iniciales"
     ]
    },
    {
     "cell_type": "code",
     "collapsed": false,
     "input": [
      "u0 = 1 * np.ones(nx)                    # todo uno\n",
      "x1 = L/4 ; n1 = int(x1 / dx)\n",
      "x2 = L/2 ; n2 = int(x2 / dx)\n",
      "u0[ n1 : n2 ] = 2"
     ],
     "language": "python",
     "metadata": {},
     "outputs": [],
     "prompt_number": 23
    },
    {
     "cell_type": "code",
     "collapsed": false,
     "input": [
      "plt.plot( x , u0 )"
     ],
     "language": "python",
     "metadata": {},
     "outputs": [
      {
       "metadata": {},
       "output_type": "pyout",
       "prompt_number": 24,
       "text": [
        "[<matplotlib.lines.Line2D at 0x7f5b70f4c9d0>]"
       ]
      },
      {
       "metadata": {},
       "output_type": "display_data",
       "png": "[encoded data removed]",
       "text": [
        "<matplotlib.figure.Figure at 0x7f5b71325a90>"
       ]
      }
     ],
     "prompt_number": 24
    },
    {
     "cell_type": "markdown",
     "metadata": {},
     "source": [
      "### Un paso en el tiempo"
     ]
    },
    {
     "cell_type": "markdown",
     "metadata": {},
     "source": [
      "Recordemos que queremos implementar $u_i^{n+1} = u_i^n + \\mathrm{Co}(u_{i+1}^n + u_{i-1}^n -  2 u_i^n  ) $"
     ]
    },
    {
     "cell_type": "code",
     "collapsed": false,
     "input": [
      "u = u0.copy()"
     ],
     "language": "python",
     "metadata": {},
     "outputs": [],
     "prompt_number": 25
    },
    {
     "cell_type": "code",
     "collapsed": false,
     "input": [
      "un = u.copy()         # distribuci\u00f3n actual\n",
      "\n",
      "for i in range( 1 , nx - 1 ):    # Ahora queda claro por qu\u00e9 hemos quitado los extremos !!\n",
      "   u[i] = un[i] + Co * (un[i+1] + un[i-1] - 2 * un[i] )\n",
      "        \n",
      "        "
     ],
     "language": "python",
     "metadata": {},
     "outputs": [],
     "prompt_number": 26
    },
    {
     "cell_type": "code",
     "collapsed": false,
     "input": [
      "plt.plot(x,u)"
     ],
     "language": "python",
     "metadata": {},
     "outputs": [
      {
       "metadata": {},
       "output_type": "pyout",
       "prompt_number": 27,
       "text": [
        "[<matplotlib.lines.Line2D at 0x7f5b70e83610>]"
       ]
      },
      {
       "metadata": {},
       "output_type": "display_data",
       "png": "[encoded data removed]",
       "text": [
        "<matplotlib.figure.Figure at 0x7f5b70ee8a50>"
       ]
      }
     ],
     "prompt_number": 27
    },
    {
     "cell_type": "markdown",
     "metadata": {},
     "source": [
      "### Tiempo completo"
     ]
    },
    {
     "cell_type": "code",
     "collapsed": false,
     "input": [
      "u = u0.copy()"
     ],
     "language": "python",
     "metadata": {},
     "outputs": [],
     "prompt_number": 28
    },
    {
     "cell_type": "code",
     "collapsed": false,
     "input": [
      "for n in range(nt):\n",
      "    un = u.copy()\n",
      "    for i in range( 1 , nx - 1 ): \n",
      "       u[i] = un[i] + Co * (un[i+1] + un[i-1] - 2 * un[i] )"
     ],
     "language": "python",
     "metadata": {},
     "outputs": [],
     "prompt_number": 29
    },
    {
     "cell_type": "code",
     "collapsed": false,
     "input": [
      "plt.plot(x , u , x , u0 , 'r')"
     ],
     "language": "python",
     "metadata": {},
     "outputs": [
      {
       "metadata": {},
       "output_type": "pyout",
       "prompt_number": 30,
       "text": [
        "[<matplotlib.lines.Line2D at 0x7f5b70da8f90>,\n",
        " <matplotlib.lines.Line2D at 0x7f5b70db61d0>]"
       ]
      },
      {
       "metadata": {},
       "output_type": "display_data",
       "png": "[encoded data removed]",
       "text": [
        "<matplotlib.figure.Figure at 0x7f5b70fa8210>"
       ]
      }
     ],
     "prompt_number": 30
    },
    {
     "cell_type": "markdown",
     "metadata": {},
     "source": [
      "### Reflexiones"
     ]
    },
    {
     "cell_type": "markdown",
     "metadata": {},
     "source": [
      "* \u00bfQu\u00e9 hemos hecho en los bordes? (condiciones de contorno)\n",
      "* \u00bfPor qu\u00e9 ahora la discretizaci\u00f3n centrada funciona tan bien?\n",
      "* \u00bfSe podr\u00eda probar un m\u00e9todo expl\u00edcito? (Y, \u00bfpor qu\u00e9?)"
     ]
    }
   ],
   "metadata": {}
  }
 ]
}
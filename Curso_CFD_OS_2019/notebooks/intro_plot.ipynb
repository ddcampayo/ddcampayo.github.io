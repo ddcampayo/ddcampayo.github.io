{
 "metadata": {
  "name": "",
  "signature": "sha256:2088f609dffd913af4858975fd59a30d051430087828adaf507b18685f838749"
 },
 "nbformat": 3,
 "nbformat_minor": 0,
 "worksheets": [
  {
   "cells": [
    {
     "cell_type": "markdown",
     "metadata": {},
     "source": [
      "#Introducci\u00f3n a python cient\u00edfico"
     ]
    },
    {
     "cell_type": "markdown",
     "metadata": {},
     "source": [
      "python es un lenguaje *gen\u00e9rico*, as\u00ed que, casi siempre, hay que importar m\u00f3dulos, o bien enteros:"
     ]
    },
    {
     "cell_type": "code",
     "collapsed": false,
     "input": [
      "import scipy as np"
     ],
     "language": "python",
     "metadata": {},
     "outputs": [],
     "prompt_number": 3
    },
    {
     "cell_type": "markdown",
     "metadata": {},
     "source": [
      "o bien subm\u00f3dulos:"
     ]
    },
    {
     "cell_type": "code",
     "collapsed": false,
     "input": [
      "from matplotlib import pyplot as plt"
     ],
     "language": "python",
     "metadata": {},
     "outputs": [],
     "prompt_number": 4
    },
    {
     "cell_type": "markdown",
     "metadata": {},
     "source": [
      "Para ver los gr\u00e1ficos dentro de la hoja (% es un comando \"m\u00e1gico\")"
     ]
    },
    {
     "cell_type": "code",
     "collapsed": false,
     "input": [
      "%matplotlib inline"
     ],
     "language": "python",
     "metadata": {},
     "outputs": [],
     "prompt_number": 5
    },
    {
     "cell_type": "markdown",
     "metadata": {},
     "source": [
      "##Vectores num\u00e9ricos"
     ]
    },
    {
     "cell_type": "code",
     "collapsed": false,
     "input": [
      "x=np.linspace(1,10,100)"
     ],
     "language": "python",
     "metadata": {},
     "outputs": [],
     "prompt_number": 6
    },
    {
     "cell_type": "code",
     "collapsed": false,
     "input": [
      "x"
     ],
     "language": "python",
     "metadata": {},
     "outputs": [
      {
       "metadata": {},
       "output_type": "pyout",
       "prompt_number": 7,
       "text": [
        "array([  1.        ,   1.09090909,   1.18181818,   1.27272727,\n",
        "         1.36363636,   1.45454545,   1.54545455,   1.63636364,\n",
        "         1.72727273,   1.81818182,   1.90909091,   2.        ,\n",
        "         2.09090909,   2.18181818,   2.27272727,   2.36363636,\n",
        "         2.45454545,   2.54545455,   2.63636364,   2.72727273,\n",
        "         2.81818182,   2.90909091,   3.        ,   3.09090909,\n",
        "         3.18181818,   3.27272727,   3.36363636,   3.45454545,\n",
        "         3.54545455,   3.63636364,   3.72727273,   3.81818182,\n",
        "         3.90909091,   4.        ,   4.09090909,   4.18181818,\n",
        "         4.27272727,   4.36363636,   4.45454545,   4.54545455,\n",
        "         4.63636364,   4.72727273,   4.81818182,   4.90909091,\n",
        "         5.        ,   5.09090909,   5.18181818,   5.27272727,\n",
        "         5.36363636,   5.45454545,   5.54545455,   5.63636364,\n",
        "         5.72727273,   5.81818182,   5.90909091,   6.        ,\n",
        "         6.09090909,   6.18181818,   6.27272727,   6.36363636,\n",
        "         6.45454545,   6.54545455,   6.63636364,   6.72727273,\n",
        "         6.81818182,   6.90909091,   7.        ,   7.09090909,\n",
        "         7.18181818,   7.27272727,   7.36363636,   7.45454545,\n",
        "         7.54545455,   7.63636364,   7.72727273,   7.81818182,\n",
        "         7.90909091,   8.        ,   8.09090909,   8.18181818,\n",
        "         8.27272727,   8.36363636,   8.45454545,   8.54545455,\n",
        "         8.63636364,   8.72727273,   8.81818182,   8.90909091,\n",
        "         9.        ,   9.09090909,   9.18181818,   9.27272727,\n",
        "         9.36363636,   9.45454545,   9.54545455,   9.63636364,\n",
        "         9.72727273,   9.81818182,   9.90909091,  10.        ])"
       ]
      }
     ],
     "prompt_number": 7
    },
    {
     "cell_type": "code",
     "collapsed": false,
     "input": [
      "plt.plot(x)"
     ],
     "language": "python",
     "metadata": {},
     "outputs": [
      {
       "metadata": {},
       "output_type": "pyout",
       "prompt_number": 8,
       "text": [
        "[<matplotlib.lines.Line2D at 0x7fb463823190>]"
       ]
      },
      {
       "metadata": {},
       "output_type": "display_data",
       "png": "[encoded data removed]",
       "text": [
        "<matplotlib.figure.Figure at 0x7fb4638e3a90>"
       ]
      }
     ],
     "prompt_number": 8
    },
    {
     "cell_type": "markdown",
     "metadata": {},
     "source": [
      "##Funciones de vectores"
     ]
    },
    {
     "cell_type": "code",
     "collapsed": false,
     "input": [
      "y=np.cos(x)"
     ],
     "language": "python",
     "metadata": {},
     "outputs": [],
     "prompt_number": 9
    },
    {
     "cell_type": "code",
     "collapsed": false,
     "input": [
      "plt.plot(x , y )"
     ],
     "language": "python",
     "metadata": {},
     "outputs": [
      {
       "metadata": {},
       "output_type": "pyout",
       "prompt_number": 11,
       "text": [
        "[<matplotlib.lines.Line2D at 0x7fb463735950>]"
       ]
      },
      {
       "metadata": {},
       "output_type": "display_data",
       "png": "[encoded data removed]",
       "text": [
        "<matplotlib.figure.Figure at 0x7fb46372bdd0>"
       ]
      }
     ],
     "prompt_number": 11
    },
    {
     "cell_type": "markdown",
     "metadata": {},
     "source": [
      "##\u00cdndices"
     ]
    },
    {
     "cell_type": "code",
     "collapsed": false,
     "input": [
      "x[0]"
     ],
     "language": "python",
     "metadata": {},
     "outputs": [
      {
       "metadata": {},
       "output_type": "pyout",
       "prompt_number": 12,
       "text": [
        "1.0"
       ]
      }
     ],
     "prompt_number": 12
    },
    {
     "cell_type": "code",
     "collapsed": false,
     "input": [
      "y[0]"
     ],
     "language": "python",
     "metadata": {},
     "outputs": [
      {
       "metadata": {},
       "output_type": "pyout",
       "prompt_number": 13,
       "text": [
        "0.54030230586813977"
       ]
      }
     ],
     "prompt_number": 13
    },
    {
     "cell_type": "markdown",
     "metadata": {},
     "source": [
      "Probar: x.[TAB]"
     ]
    },
    {
     "cell_type": "code",
     "collapsed": false,
     "input": [
      "x.size"
     ],
     "language": "python",
     "metadata": {},
     "outputs": [
      {
       "metadata": {},
       "output_type": "pyout",
       "prompt_number": 17,
       "text": [
        "100"
       ]
      }
     ],
     "prompt_number": 17
    },
    {
     "cell_type": "code",
     "collapsed": false,
     "input": [
      "x[100]   # OJO!!!!"
     ],
     "language": "python",
     "metadata": {},
     "outputs": [
      {
       "ename": "IndexError",
       "evalue": "index 100 is out of bounds for axis 0 with size 100",
       "output_type": "pyerr",
       "traceback": [
        "\u001b[0;31m---------------------------------------------------------------------------\u001b[0m\n\u001b[0;31mIndexError\u001b[0m                                Traceback (most recent call last)",
        "\u001b[0;32m<ipython-input-19-5d9d972c73ab>\u001b[0m in \u001b[0;36m<module>\u001b[0;34m()\u001b[0m\n\u001b[0;32m----> 1\u001b[0;31m \u001b[0mx\u001b[0m\u001b[0;34m[\u001b[0m\u001b[0;36m100\u001b[0m\u001b[0;34m]\u001b[0m   \u001b[0;31m# OJO!!!!\u001b[0m\u001b[0;34m\u001b[0m\u001b[0m\n\u001b[0m",
        "\u001b[0;31mIndexError\u001b[0m: index 100 is out of bounds for axis 0 with size 100"
       ]
      }
     ],
     "prompt_number": 19
    },
    {
     "cell_type": "code",
     "collapsed": false,
     "input": [
      "x[99]"
     ],
     "language": "python",
     "metadata": {},
     "outputs": [
      {
       "metadata": {},
       "output_type": "pyout",
       "prompt_number": 20,
       "text": [
        "10.0"
       ]
      }
     ],
     "prompt_number": 20
    },
    {
     "cell_type": "code",
     "collapsed": false,
     "input": [
      "x[0:2]"
     ],
     "language": "python",
     "metadata": {},
     "outputs": [
      {
       "metadata": {},
       "output_type": "pyout",
       "prompt_number": 21,
       "text": [
        "array([ 1.        ,  1.09090909])"
       ]
      }
     ],
     "prompt_number": 21
    },
    {
     "cell_type": "markdown",
     "metadata": {},
     "source": [
      "##Estructuras de control"
     ]
    },
    {
     "cell_type": "markdown",
     "metadata": {},
     "source": [
      "\u00a1\u00a1 Atenci\u00f3n al sangrado !!"
     ]
    },
    {
     "cell_type": "code",
     "collapsed": false,
     "input": [
      "for xx in x:\n",
      "    print xx\n"
     ],
     "language": "python",
     "metadata": {},
     "outputs": [
      {
       "output_type": "stream",
       "stream": "stdout",
       "text": [
        "1.0\n",
        "1.09090909091\n",
        "1.18181818182\n",
        "1.27272727273\n",
        "1.36363636364\n",
        "1.45454545455\n",
        "1.54545454545\n",
        "1.63636363636\n",
        "1.72727272727\n",
        "1.81818181818\n",
        "1.90909090909\n",
        "2.0\n",
        "2.09090909091\n",
        "2.18181818182\n",
        "2.27272727273\n",
        "2.36363636364\n",
        "2.45454545455\n",
        "2.54545454545\n",
        "2.63636363636\n",
        "2.72727272727\n",
        "2.81818181818\n",
        "2.90909090909\n",
        "3.0\n",
        "3.09090909091\n",
        "3.18181818182\n",
        "3.27272727273\n",
        "3.36363636364\n",
        "3.45454545455\n",
        "3.54545454545\n",
        "3.63636363636\n",
        "3.72727272727\n",
        "3.81818181818\n",
        "3.90909090909\n",
        "4.0\n",
        "4.09090909091\n",
        "4.18181818182\n",
        "4.27272727273\n",
        "4.36363636364\n",
        "4.45454545455\n",
        "4.54545454545\n",
        "4.63636363636\n",
        "4.72727272727\n",
        "4.81818181818\n",
        "4.90909090909\n",
        "5.0\n",
        "5.09090909091\n",
        "5.18181818182\n",
        "5.27272727273\n",
        "5.36363636364\n",
        "5.45454545455\n",
        "5.54545454545\n",
        "5.63636363636\n",
        "5.72727272727\n",
        "5.81818181818\n",
        "5.90909090909\n",
        "6.0\n",
        "6.09090909091\n",
        "6.18181818182\n",
        "6.27272727273\n",
        "6.36363636364\n",
        "6.45454545455\n",
        "6.54545454545\n",
        "6.63636363636\n",
        "6.72727272727\n",
        "6.81818181818\n",
        "6.90909090909\n",
        "7.0\n",
        "7.09090909091\n",
        "7.18181818182\n",
        "7.27272727273\n",
        "7.36363636364\n",
        "7.45454545455\n",
        "7.54545454545\n",
        "7.63636363636\n",
        "7.72727272727\n",
        "7.81818181818\n",
        "7.90909090909\n",
        "8.0\n",
        "8.09090909091\n",
        "8.18181818182\n",
        "8.27272727273\n",
        "8.36363636364\n",
        "8.45454545455\n",
        "8.54545454545\n",
        "8.63636363636\n",
        "8.72727272727\n",
        "8.81818181818\n",
        "8.90909090909\n",
        "9.0\n",
        "9.09090909091\n",
        "9.18181818182\n",
        "9.27272727273\n",
        "9.36363636364\n",
        "9.45454545455\n",
        "9.54545454545\n",
        "9.63636363636\n",
        "9.72727272727\n",
        "9.81818181818\n",
        "9.90909090909\n",
        "10.0\n"
       ]
      }
     ],
     "prompt_number": 24
    },
    {
     "cell_type": "code",
     "collapsed": false,
     "input": [
      "if x[0] < 1.2 :\n",
      "    print \"Menor que 1.2\"\n"
     ],
     "language": "python",
     "metadata": {},
     "outputs": [
      {
       "output_type": "stream",
       "stream": "stdout",
       "text": [
        "Menor que 1.2\n"
       ]
      }
     ],
     "prompt_number": 30
    },
    {
     "cell_type": "code",
     "collapsed": false,
     "input": [
      "for xx in x:\n",
      "    if xx < 1.2 :\n",
      "        print \"Menor que 1.2\""
     ],
     "language": "python",
     "metadata": {},
     "outputs": [
      {
       "output_type": "stream",
       "stream": "stdout",
       "text": [
        "Menor que 1.2\n",
        "Menor que 1.2\n",
        "Menor que 1.2\n"
       ]
      }
     ],
     "prompt_number": 32
    }
   ],
   "metadata": {}
  }
 ]
}
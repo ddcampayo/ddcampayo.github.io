{
 "cells": [
  {
   "cell_type": "markdown",
   "metadata": {},
   "source": [
    "### Deducción\n",
    "\n",
    "Muy a menudo, se parte de las EDPs, conocidas, por ejempo:\n",
    "$$\\frac{\\partial u}{\\partial t} + c \\frac{\\partial u}{\\partial x} = 0$$\n",
    "\n",
    "Estas se *discretizan*: sustituyendo las derivadas por diferencias.\n",
    "\n",
    "Sin embargo, este es un proceso de ida y vuelta, porque\n",
    "las EDPs se deducen a nivel discreto.\n",
    "\t\t\t      \n",
    "\n",
    "### Deducción\n",
    "\n",
    "Se suponen cambios de un campo $u$ sólo en la dirección $x$\n",
    "\n",
    "![Esquema de convección en 1D](./conveccion_1d.png)\n",
    "\n",
    "El cambio en la cantidad total $A \\Delta x \\, u_i$ será:\n",
    "\n",
    "$$\\frac{d }{d t} (A \\Delta x  \\, u_i ) =  \\Phi_{i-1/2} -  \\Phi_{i+1/2}  $$\n",
    "\n"
   ]
  },
  {
   "cell_type": "code",
   "execution_count": null,
   "metadata": {
    "collapsed": true
   },
   "outputs": [],
   "source": []
  },
  {
   "cell_type": "code",
   "execution_count": null,
   "metadata": {
    "collapsed": true
   },
   "outputs": [],
   "source": []
  },
  {
   "cell_type": "code",
   "execution_count": null,
   "metadata": {
    "collapsed": true
   },
   "outputs": [],
   "source": []
  },
  {
   "cell_type": "code",
   "execution_count": null,
   "metadata": {
    "collapsed": true
   },
   "outputs": [],
   "source": []
  }
 ],
 "metadata": {
  "kernelspec": {
   "display_name": "Python 3",
   "language": "python",
   "name": "python3"
  },
  "language_info": {
   "codemirror_mode": {
    "name": "ipython",
    "version": 3
   },
   "file_extension": ".py",
   "mimetype": "text/x-python",
   "name": "python",
   "nbconvert_exporter": "python",
   "pygments_lexer": "ipython3",
   "version": "3.6.4"
  }
 },
 "nbformat": 4,
 "nbformat_minor": 2
}

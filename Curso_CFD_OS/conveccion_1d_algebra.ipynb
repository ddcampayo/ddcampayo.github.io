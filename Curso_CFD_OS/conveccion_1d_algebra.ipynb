{
 "metadata": {
  "name": "",
  "signature": "sha256:2cdff52dc3d0f2c4e1c6ed60dc41ea00d80fcddba4ca179bb5353cbcd668b696"
 },
 "nbformat": 3,
 "nbformat_minor": 0,
 "worksheets": [
  {
   "cells": [
    {
     "cell_type": "markdown",
     "metadata": {},
     "source": [
      "# Convecci\u00f3n en una dimensi\u00f3n, con \u00e1lgebra lineal"
     ]
    },
    {
     "cell_type": "markdown",
     "metadata": {},
     "source": [
      "... igual que el otro d\u00eda"
     ]
    },
    {
     "cell_type": "code",
     "collapsed": false,
     "input": [
      "%matplotlib inline"
     ],
     "language": "python",
     "metadata": {},
     "outputs": [],
     "prompt_number": 1
    },
    {
     "cell_type": "code",
     "collapsed": false,
     "input": [
      "import scipy as np\n",
      "from matplotlib import pyplot as plt"
     ],
     "language": "python",
     "metadata": {},
     "outputs": [],
     "prompt_number": 2
    },
    {
     "cell_type": "markdown",
     "metadata": {},
     "source": [
      "## Par\u00e1metros"
     ]
    },
    {
     "cell_type": "code",
     "collapsed": false,
     "input": [
      "L  = 1.0           # longitud del sistema 1D\n",
      "nx = 42            # nodos espaciales\n",
      "dx = L / (nx-2)    # s\u00ed, quitamos dos nodos ...\n",
      "x = np.linspace( 0 , L , num=nx )\n",
      "\n",
      "T= 0.1            # tiempo total\n",
      "nt = 100            # pasos temporales\n",
      "dt = T / nt\n",
      "\n",
      "c = 1              # velocidad de la onda"
     ],
     "language": "python",
     "metadata": {},
     "outputs": [],
     "prompt_number": 3
    },
    {
     "cell_type": "markdown",
     "metadata": {},
     "source": [
      "### \u00a1N\u00famero de Courant !"
     ]
    },
    {
     "cell_type": "code",
     "collapsed": false,
     "input": [
      "Co = c * dt / dx\n",
      "Co"
     ],
     "language": "python",
     "metadata": {},
     "outputs": [
      {
       "metadata": {},
       "output_type": "pyout",
       "prompt_number": 4,
       "text": [
        "0.04"
       ]
      }
     ],
     "prompt_number": 4
    },
    {
     "cell_type": "markdown",
     "metadata": {},
     "source": [
      "### Condiciones iniciales"
     ]
    },
    {
     "cell_type": "code",
     "collapsed": false,
     "input": [
      "u0 = 1 * np.ones(nx)                    # todo uno\n",
      "x1 = L/4 ; n1 = int(x1 / dx)\n",
      "x2 = L/2 ; n2 = int(x2 / dx)\n",
      "u0[ n1 : n2 ] = 2"
     ],
     "language": "python",
     "metadata": {},
     "outputs": [],
     "prompt_number": 5
    },
    {
     "cell_type": "code",
     "collapsed": false,
     "input": [
      "plt.plot( x , u0 )"
     ],
     "language": "python",
     "metadata": {},
     "outputs": [
      {
       "metadata": {},
       "output_type": "pyout",
       "prompt_number": 6,
       "text": [
        "[<matplotlib.lines.Line2D at 0x7efecb86ec10>]"
       ]
      },
      {
       "metadata": {},
       "output_type": "display_data",
       "png": "[encoded data removed]",
       "text": [
        "<matplotlib.figure.Figure at 0x7efecb92da10>"
       ]
      }
     ],
     "prompt_number": 6
    },
    {
     "cell_type": "markdown",
     "metadata": {},
     "source": [
      "### Un paso en el tiempo"
     ]
    },
    {
     "cell_type": "markdown",
     "metadata": {},
     "source": [
      "Recordemos que queremos implementar $u_i^{n+1} = u_i^n - \\mathrm{Co}/2 (u_{i+1}^n-u_{i-1}^n)$"
     ]
    },
    {
     "cell_type": "code",
     "collapsed": false,
     "input": [
      "u = u0.copy()"
     ],
     "language": "python",
     "metadata": {},
     "outputs": [],
     "prompt_number": 7
    },
    {
     "cell_type": "code",
     "collapsed": false,
     "input": [
      "un = u.copy()         # distribuci\u00f3n actual\n",
      "\n",
      "for i in range( 1 , nx - 1 ):    # Ahora queda claro por qu\u00e9 hemos quitado los extremos !!\n",
      "   u[i] = un[i] - (Co / 2.0) * (un[i+1] - un[i-1])\n",
      "        \n",
      "        "
     ],
     "language": "python",
     "metadata": {},
     "outputs": [],
     "prompt_number": 8
    },
    {
     "cell_type": "markdown",
     "metadata": {},
     "source": [
      "*\u00a1Empiezan los cambios!*"
     ]
    },
    {
     "cell_type": "markdown",
     "metadata": {},
     "source": [
      "... pero eso se parece a una operaci\u00f3n de \u00e1lgebra lineal"
     ]
    },
    {
     "cell_type": "code",
     "collapsed": false,
     "input": [
      "D=np.eye( nx )"
     ],
     "language": "python",
     "metadata": {},
     "outputs": [],
     "prompt_number": 9
    },
    {
     "cell_type": "code",
     "collapsed": false,
     "input": [
      "plt.matshow( D )"
     ],
     "language": "python",
     "metadata": {},
     "outputs": [
      {
       "metadata": {},
       "output_type": "pyout",
       "prompt_number": 10,
       "text": [
        "<matplotlib.image.AxesImage at 0x7efecb7d5f50>"
       ]
      },
      {
       "metadata": {},
       "output_type": "display_data",
       "png": "[encoded data removed]",
       "text": [
        "<matplotlib.figure.Figure at 0x7efecb89ead0>"
       ]
      }
     ],
     "prompt_number": 10
    },
    {
     "cell_type": "code",
     "collapsed": false,
     "input": [
      "D = D + np.diag( -(Co/2.0)*np.ones( nx - 1 ) , k=1 ) + np.diag( (Co/2.0)*np.ones( nx - 1 ) , k=-1 ) "
     ],
     "language": "python",
     "metadata": {},
     "outputs": [],
     "prompt_number": 11
    },
    {
     "cell_type": "code",
     "collapsed": false,
     "input": [
      "D"
     ],
     "language": "python",
     "metadata": {},
     "outputs": [
      {
       "metadata": {},
       "output_type": "pyout",
       "prompt_number": 14,
       "text": [
        "array([[ 1.  , -0.02,  0.  , ...,  0.  ,  0.  ,  0.  ],\n",
        "       [ 0.02,  1.  , -0.02, ...,  0.  ,  0.  ,  0.  ],\n",
        "       [ 0.  ,  0.02,  1.  , ...,  0.  ,  0.  ,  0.  ],\n",
        "       ..., \n",
        "       [ 0.  ,  0.  ,  0.  , ...,  1.  , -0.02,  0.  ],\n",
        "       [ 0.  ,  0.  ,  0.  , ...,  0.02,  1.  , -0.02],\n",
        "       [ 0.  ,  0.  ,  0.  , ...,  0.  ,  0.02,  1.  ]])"
       ]
      }
     ],
     "prompt_number": 14
    },
    {
     "cell_type": "code",
     "collapsed": false,
     "input": [
      "plt.matshow( D )"
     ],
     "language": "python",
     "metadata": {},
     "outputs": [
      {
       "metadata": {},
       "output_type": "pyout",
       "prompt_number": 17,
       "text": [
        "<matplotlib.image.AxesImage at 0x7efecb501d10>"
       ]
      },
      {
       "metadata": {},
       "output_type": "display_data",
       "png": "[encoded data removed]",
       "text": [
        "<matplotlib.figure.Figure at 0x7efecb58d390>"
       ]
      }
     ],
     "prompt_number": 17
    },
    {
     "cell_type": "code",
     "collapsed": false,
     "input": [
      "plt.matshow( D[ 1:10, 1:10 ] )"
     ],
     "language": "python",
     "metadata": {},
     "outputs": [
      {
       "metadata": {},
       "output_type": "pyout",
       "prompt_number": 22,
       "text": [
        "<matplotlib.image.AxesImage at 0x7efecb10e450>"
       ]
      },
      {
       "metadata": {},
       "output_type": "display_data",
       "png": "[encoded data removed]",
       "text": [
        "<matplotlib.figure.Figure at 0x7efecb436f50>"
       ]
      }
     ],
     "prompt_number": 22
    },
    {
     "cell_type": "code",
     "collapsed": false,
     "input": [
      "u = u0.copy()"
     ],
     "language": "python",
     "metadata": {},
     "outputs": [],
     "prompt_number": 23
    },
    {
     "cell_type": "markdown",
     "metadata": {},
     "source": [
      "cada paso temporal puede verse como la aplicaci\u00f3n de la matriz $D$ al vector $u$, o sea, $D \\cdot u$"
     ]
    },
    {
     "cell_type": "code",
     "collapsed": false,
     "input": [
      "u = np.dot( D , u)"
     ],
     "language": "python",
     "metadata": {},
     "outputs": [],
     "prompt_number": 24
    },
    {
     "cell_type": "code",
     "collapsed": false,
     "input": [
      "plt.plot(x,u)"
     ],
     "language": "python",
     "metadata": {},
     "outputs": [
      {
       "metadata": {},
       "output_type": "pyout",
       "prompt_number": 25,
       "text": [
        "[<matplotlib.lines.Line2D at 0x7efecb035ad0>]"
       ]
      },
      {
       "metadata": {},
       "output_type": "display_data",
       "png": "[encoded data removed]",
       "text": [
        "<matplotlib.figure.Figure at 0x7efecb0b1210>"
       ]
      }
     ],
     "prompt_number": 25
    },
    {
     "cell_type": "markdown",
     "metadata": {},
     "source": [
      "### Tiempo completo"
     ]
    },
    {
     "cell_type": "code",
     "collapsed": false,
     "input": [
      "u = u0.copy()"
     ],
     "language": "python",
     "metadata": {},
     "outputs": [],
     "prompt_number": 26
    },
    {
     "cell_type": "code",
     "collapsed": false,
     "input": [
      "for n in range(nt):\n",
      "    u = np.dot( D , u)"
     ],
     "language": "python",
     "metadata": {},
     "outputs": [],
     "prompt_number": 27
    },
    {
     "cell_type": "code",
     "collapsed": false,
     "input": [
      "plt.plot(x , u , x , u0 , 'r')"
     ],
     "language": "python",
     "metadata": {},
     "outputs": [
      {
       "metadata": {},
       "output_type": "pyout",
       "prompt_number": 28,
       "text": [
        "[<matplotlib.lines.Line2D at 0x7efecafbfed0>,\n",
        " <matplotlib.lines.Line2D at 0x7efecafcd110>]"
       ]
      },
      {
       "metadata": {},
       "output_type": "display_data",
       "png": "[encoded data removed]",
       "text": [
        "<matplotlib.figure.Figure at 0x7efecaff5b10>"
       ]
      }
     ],
     "prompt_number": 28
    },
    {
     "cell_type": "markdown",
     "metadata": {},
     "source": [
      "### Formulaciones alternativas"
     ]
    },
    {
     "cell_type": "markdown",
     "metadata": {},
     "source": [
      "Probemos ahora el algoritmo *upwind*: $u_i^{n+1} = u_i^n - \\mathrm{Co} (u_{i}^n-u_{i-1}^n)$"
     ]
    },
    {
     "cell_type": "code",
     "collapsed": false,
     "input": [
      "u = u0.copy()"
     ],
     "language": "python",
     "metadata": {},
     "outputs": [],
     "prompt_number": 33
    },
    {
     "cell_type": "code",
     "collapsed": false,
     "input": [
      "D=  ( 1 - Co ) * np.eye( nx )\n",
      "D = D + np.diag( Co * np.ones( nx - 1 ) , k=-1 )\n",
      "D"
     ],
     "language": "python",
     "metadata": {},
     "outputs": [
      {
       "metadata": {},
       "output_type": "pyout",
       "prompt_number": 35,
       "text": [
        "array([[ 0.96,  0.  ,  0.  , ...,  0.  ,  0.  ,  0.  ],\n",
        "       [ 0.04,  0.96,  0.  , ...,  0.  ,  0.  ,  0.  ],\n",
        "       [ 0.  ,  0.04,  0.96, ...,  0.  ,  0.  ,  0.  ],\n",
        "       ..., \n",
        "       [ 0.  ,  0.  ,  0.  , ...,  0.96,  0.  ,  0.  ],\n",
        "       [ 0.  ,  0.  ,  0.  , ...,  0.04,  0.96,  0.  ],\n",
        "       [ 0.  ,  0.  ,  0.  , ...,  0.  ,  0.04,  0.96]])"
       ]
      }
     ],
     "prompt_number": 35
    },
    {
     "cell_type": "code",
     "collapsed": false,
     "input": [
      "plt.matshow( D[ 1:10, 1:10 ] )"
     ],
     "language": "python",
     "metadata": {},
     "outputs": [
      {
       "metadata": {},
       "output_type": "pyout",
       "prompt_number": 36,
       "text": [
        "<matplotlib.image.AxesImage at 0x7efecae298d0>"
       ]
      },
      {
       "metadata": {},
       "output_type": "display_data",
       "png": "[encoded data removed]",
       "text": [
        "<matplotlib.figure.Figure at 0x7efecaf186d0>"
       ]
      }
     ],
     "prompt_number": 36
    },
    {
     "cell_type": "code",
     "collapsed": false,
     "input": [
      "for n in range(nt):\n",
      "    u = np.dot( D , u)"
     ],
     "language": "python",
     "metadata": {},
     "outputs": [],
     "prompt_number": 37
    },
    {
     "cell_type": "code",
     "collapsed": false,
     "input": [
      "plt.plot(x , u , x , u0 , 'r')"
     ],
     "language": "python",
     "metadata": {},
     "outputs": [
      {
       "metadata": {},
       "output_type": "pyout",
       "prompt_number": 38,
       "text": [
        "[<matplotlib.lines.Line2D at 0x7efecadd3dd0>,\n",
        " <matplotlib.lines.Line2D at 0x7efecadd3fd0>]"
       ]
      },
      {
       "metadata": {},
       "output_type": "display_data",
       "png": "[encoded data removed]",
       "text": [
        "<matplotlib.figure.Figure at 0x7efecae60fd0>"
       ]
      }
     ],
     "prompt_number": 38
    },
    {
     "cell_type": "markdown",
     "metadata": {},
     "source": [
      "### M\u00e9todos impl\u00edcitos"
     ]
    },
    {
     "cell_type": "markdown",
     "metadata": {},
     "source": [
      "... Esto no parece servir de mucho, pero \u00bfqu\u00e9 sucede si consideramos un m\u00e9todo *impl\u00edcito* ?"
     ]
    },
    {
     "cell_type": "markdown",
     "metadata": {},
     "source": [
      "$u_i^{n+1} = u_i^n - \\mathrm{Co} (u_{i}^{n+1}-u_{i-1}^{n+1})$"
     ]
    },
    {
     "cell_type": "markdown",
     "metadata": {},
     "source": [
      "$u_i^{n+1} (1 +  \\mathrm{Co} ) - \\mathrm{Co} \\, u_{i-1}^{n+1}  = u_i^n $"
     ]
    },
    {
     "cell_type": "markdown",
     "metadata": {},
     "source": [
      "Este es un problema de \u00e1lgebra lineal, $ D u' = u$ (*otra* matriz $D$, pero mantenemos el s\u00edmbolo)"
     ]
    },
    {
     "cell_type": "code",
     "collapsed": false,
     "input": [
      "D=  (1+Co) * np.eye( nx )\n",
      "D = D - np.diag( Co * np.ones( nx - 1 ) , k=-1 )\n",
      "D"
     ],
     "language": "python",
     "metadata": {},
     "outputs": [
      {
       "metadata": {},
       "output_type": "pyout",
       "prompt_number": 40,
       "text": [
        "array([[ 1.04,  0.  ,  0.  , ...,  0.  ,  0.  ,  0.  ],\n",
        "       [-0.04,  1.04,  0.  , ...,  0.  ,  0.  ,  0.  ],\n",
        "       [ 0.  , -0.04,  1.04, ...,  0.  ,  0.  ,  0.  ],\n",
        "       ..., \n",
        "       [ 0.  ,  0.  ,  0.  , ...,  1.04,  0.  ,  0.  ],\n",
        "       [ 0.  ,  0.  ,  0.  , ..., -0.04,  1.04,  0.  ],\n",
        "       [ 0.  ,  0.  ,  0.  , ...,  0.  , -0.04,  1.04]])"
       ]
      }
     ],
     "prompt_number": 40
    },
    {
     "cell_type": "code",
     "collapsed": false,
     "input": [
      "plt.matshow( D[ 1:10, 1:10 ] )"
     ],
     "language": "python",
     "metadata": {},
     "outputs": [
      {
       "metadata": {},
       "output_type": "pyout",
       "prompt_number": 41,
       "text": [
        "<matplotlib.image.AxesImage at 0x7efecacfdf50>"
       ]
      },
      {
       "metadata": {},
       "output_type": "display_data",
       "png": "[encoded data removed]",
       "text": [
        "<matplotlib.figure.Figure at 0x7efecb013410>"
       ]
      }
     ],
     "prompt_number": 41
    },
    {
     "cell_type": "code",
     "collapsed": false,
     "input": [
      "u = u0.copy()"
     ],
     "language": "python",
     "metadata": {},
     "outputs": [],
     "prompt_number": 42
    },
    {
     "cell_type": "code",
     "collapsed": false,
     "input": [
      "from scipy import linalg"
     ],
     "language": "python",
     "metadata": {},
     "outputs": [],
     "prompt_number": 43
    },
    {
     "cell_type": "code",
     "collapsed": false,
     "input": [
      "u = np.linalg.solve( D , u )"
     ],
     "language": "python",
     "metadata": {},
     "outputs": [],
     "prompt_number": 44
    },
    {
     "cell_type": "code",
     "collapsed": false,
     "input": [
      "plt.plot(x , u )"
     ],
     "language": "python",
     "metadata": {},
     "outputs": [
      {
       "metadata": {},
       "output_type": "pyout",
       "prompt_number": 45,
       "text": [
        "[<matplotlib.lines.Line2D at 0x7efec8886590>]"
       ]
      },
      {
       "metadata": {},
       "output_type": "display_data",
       "png": "[encoded data removed]",
       "text": [
        "<matplotlib.figure.Figure at 0x7efeca750950>"
       ]
      }
     ],
     "prompt_number": 45
    },
    {
     "cell_type": "code",
     "collapsed": false,
     "input": [
      "u = u0.copy()"
     ],
     "language": "python",
     "metadata": {},
     "outputs": [],
     "prompt_number": 46
    },
    {
     "cell_type": "code",
     "collapsed": false,
     "input": [
      "for n in range(nt):\n",
      "    u = np.linalg.solve( D , u )       "
     ],
     "language": "python",
     "metadata": {},
     "outputs": [],
     "prompt_number": 47
    },
    {
     "cell_type": "code",
     "collapsed": false,
     "input": [
      "plt.plot(x , u , x , u0 , 'r')"
     ],
     "language": "python",
     "metadata": {},
     "outputs": [
      {
       "metadata": {},
       "output_type": "pyout",
       "prompt_number": 48,
       "text": [
        "[<matplotlib.lines.Line2D at 0x7efec882f250>,\n",
        " <matplotlib.lines.Line2D at 0x7efec882f450>]"
       ]
      },
      {
       "metadata": {},
       "output_type": "display_data",
       "png": "[encoded data removed]",
       "text": [
        "<matplotlib.figure.Figure at 0x7efec88bdf90>"
       ]
      }
     ],
     "prompt_number": 48
    },
    {
     "cell_type": "markdown",
     "metadata": {},
     "source": [
      "### Reflexiones"
     ]
    },
    {
     "cell_type": "markdown",
     "metadata": {},
     "source": [
      "* De nuevo, \u00bfqu\u00e9 hemos hecho en los bordes? (condiciones de contorno)\n",
      "* \u00bfPor qu\u00e9 puede ser interesante un m\u00e9todo expl\u00edcito?"
     ]
    }
   ],
   "metadata": {}
  }
 ]
}